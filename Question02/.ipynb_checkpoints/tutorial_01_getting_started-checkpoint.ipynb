{
 "cells": [
  {
   "cell_type": "code",
   "execution_count": 1,
   "metadata": {},
   "outputs": [],
   "source": [
    "%matplotlib inline"
   ]
  },
  {
   "cell_type": "code",
   "execution_count": 4,
   "metadata": {},
   "outputs": [
    {
     "name": "stderr",
     "output_type": "stream",
     "text": [
      "ERROR: Could not find a version that satisfies the requirement skgstat (from versions: none)\n",
      "ERROR: No matching distribution found for skgstat\n"
     ]
    }
   ],
   "source": [
    "!pip install skgstat"
   ]
  },
  {
   "cell_type": "markdown",
   "metadata": {},
   "source": [
    "\n",
    "# 1 - Getting Started\n",
    "\n",
    "The main application for :mod:`scikit-gstat <skgstat>` is variogram analysis and `Kriging <https://en.wikipedia.org/wiki/Kriging>`_.\n",
    "This tutorial will guide you through the most basic functionality of ``scikit-gstat``.\n",
    "There are other tutorials that will explain specific methods or attributes in ``scikit-gstat`` in more detail.\n",
    "\n",
    "**What you will learn in this tutorial**\n",
    "\n",
    "    * How to instantiate :class:`Variogram <skgstat.Variogram>` and :class:`OrdinaryKriging <skgstat.OrdinaryKriging>`\n",
    "    * How to read a variogram\n",
    "    * Perform an interpolation\n",
    "    * Most basic plotting\n"
   ]
  },
  {
   "cell_type": "code",
   "execution_count": 2,
   "metadata": {},
   "outputs": [],
   "source": [
    "import numpy as np\n",
    "import pandas as pd\n",
    "import matplotlib.pyplot as plt\n",
    "from pprint import pprint\n",
    "import warnings\n",
    "warnings.filterwarnings(\"ignore\")"
   ]
  },
  {
   "cell_type": "markdown",
   "metadata": {},
   "source": [
    "The module is called ``skgstat`` and by convention imported as ``skg``.\n",
    "The :class:`Variogram <skgstat.Variogram>` and :class:`OrdinaryKriging <skgstat.OrdinaryKriging>` classes are available at top level.\n",
    "\n"
   ]
  },
  {
   "cell_type": "code",
   "execution_count": 3,
   "metadata": {},
   "outputs": [
    {
     "ename": "ModuleNotFoundError",
     "evalue": "No module named 'skgstat'",
     "output_type": "error",
     "traceback": [
      "\u001b[1;31m---------------------------------------------------------------------------\u001b[0m",
      "\u001b[1;31mModuleNotFoundError\u001b[0m                       Traceback (most recent call last)",
      "Cell \u001b[1;32mIn[3], line 1\u001b[0m\n\u001b[1;32m----> 1\u001b[0m \u001b[38;5;28;01mimport\u001b[39;00m \u001b[38;5;21;01mskgstat\u001b[39;00m \u001b[38;5;28;01mas\u001b[39;00m \u001b[38;5;21;01mskg\u001b[39;00m\n",
      "\u001b[1;31mModuleNotFoundError\u001b[0m: No module named 'skgstat'"
     ]
    }
   ],
   "source": [
    "import skgstat as skg"
   ]
  },
  {
   "cell_type": "markdown",
   "metadata": {},
   "source": [
    "## 1.1 Load data\n",
    "SciKit-GStat includes a data submodule, that contains some sample datasets. It also offers some basic random sampling on data sources.\n",
    "Here we use the well-known Meuse dataset from the R package ``sp`` (https://cran.r-project.org/web/packages/st/index.html). \n",
    "If not specified different, the loading function will only export the lead measurements from the data source.\n",
    "\n",
    "**Note:** The data is distributed along with the package sp under a GPL-3 license.\n",
    "If you use the data, cite the original authors, not SciKit-GStat for the dataset.\n",
    "\n"
   ]
  },
  {
   "cell_type": "code",
   "execution_count": null,
   "metadata": {},
   "outputs": [],
   "source": [
    "src = skg.data.meuse()\n",
    "print(src.get('origin'))\n",
    "\n",
    "coords, vals = src.get('sample')\n",
    "# make a nice table\n",
    "pd.DataFrame({'x': coords[:, 0], 'y': coords[:, 1], 'lead': vals.flatten()}).head()"
   ]
  },
  {
   "cell_type": "markdown",
   "metadata": {},
   "source": [
    "Get a first overview of your data by plotting the `x` and `y` coordinates and visually inspect how the `z` spread out.\n",
    "\n"
   ]
  },
  {
   "cell_type": "code",
   "execution_count": null,
   "metadata": {},
   "outputs": [],
   "source": [
    "fig, ax = plt.subplots(1, 1, figsize=(9, 9))\n",
    "art = ax.scatter(coords[:, 0], coords[:, 1], s=50, c=vals.flatten(), cmap='plasma')\n",
    "plt.colorbar(art)"
   ]
  },
  {
   "cell_type": "markdown",
   "metadata": {},
   "source": [
    "We can already see a lot from here:\n",
    "\n",
    "* There are a few hot-spots, most of them aligned along the river-bank.\n",
    "* Most observations show rather low values\n",
    "\n",
    "These are already very important insights.\n",
    "\n",
    "## 1.2 Build a Variogram\n",
    "As a quick reminder, the variogram relates pair-wise separating distances of `coordinates` and relates them to the *semi-variance* of the corresponding `values` pairs. The default estimator used is the Matheron estimator:\n",
    "\n",
    "\\begin{align}\\gamma (h) = \\frac{1}{2N(h)} * \\sum_{i=1}^{N(h)}(Z(x_i) - Z(x_{i + h}))^2\\end{align}\n",
    "\n",
    "For more details, please refer to the `User Guide <https://mmaelicke.github.io/scikit-gstat/userguide/variogram.html#experimental-variograms>`_.\n",
    "\n",
    "The :class:`Variogram <skgstat.Variogram>` class takes at least two arguments. \n",
    "The :func:`coordinates <skgstat.Variogram.coordinates>` and the :func:`values <skgstat.Variogram.values>` observed at these locations.\n",
    "If you use older versions, <ou should also at least set the ``normalize`` parameter to explicitly, as it changed it's default value in\n",
    "version `0.2.8` to ``False``. This attribute affects only the plotting, not the variogram values.\n",
    "Additionally, the number of bins is set to 15, because we have fairly many observations and the default value of 10 is unnecessarily small.\n",
    "The ``maxlag`` set the maximum distance for the last bin. As we have no other additional information about expected correlation lengths,\n",
    "we can either set nothing and use the full distance matrix, or set it i.e. to ``'median'``, which will restrict the distance matrix to only\n",
    "use half of all combinations.\n",
    "\n"
   ]
  },
  {
   "cell_type": "code",
   "execution_count": null,
   "metadata": {},
   "outputs": [],
   "source": [
    "V = skg.Variogram(coords, vals.flatten(), maxlag='median', n_lags=15, normalize=False)\n",
    "fig = V.plot(show=False)"
   ]
  },
  {
   "cell_type": "markdown",
   "metadata": {},
   "source": [
    "The upper subplot show the histogram for the count of point-pairs in each lag class. You can see various things here:\n",
    "\n",
    "  * As expected, there is a clear spatial dependency, because semi-variance increases with distance (blue dots)\n",
    "  * The default `spherical` variogram model is well fitted to the experimental data\n",
    "  * The shape of the dependency is **not** captured quite well, but fair enough for this example\n",
    "  * The first two bins are not well captured, suggesting either the use of a nugget, or a different model.\n",
    "\n",
    "The sill of the variogram should correspond with the field variance. The field is unknown, but we can compare the sill to the *sample* variance:\n",
    "\n"
   ]
  },
  {
   "cell_type": "code",
   "execution_count": null,
   "metadata": {},
   "outputs": [],
   "source": [
    "print('Sample variance: %.2f   Variogram sill: %.2f' % (vals.flatten().var(), V.describe()['sill']))"
   ]
  },
  {
   "cell_type": "markdown",
   "metadata": {},
   "source": [
    "The ``describe`` method will return the most important parameters as a dictionary. \n",
    "And we can simply print the variogram ob,ect to the screen, to see all parameters.\n",
    "\n"
   ]
  },
  {
   "cell_type": "code",
   "execution_count": null,
   "metadata": {},
   "outputs": [],
   "source": [
    "pprint(V.describe())"
   ]
  },
  {
   "cell_type": "markdown",
   "metadata": {},
   "source": [
    "An even shorter summary is printed by the :class:`Variogram <skgstat.Variogram>` object itself:\n",
    "\n"
   ]
  },
  {
   "cell_type": "code",
   "execution_count": null,
   "metadata": {},
   "outputs": [],
   "source": [
    "print(V)"
   ]
  },
  {
   "cell_type": "markdown",
   "metadata": {},
   "source": [
    "## 1.3 Kriging\n",
    "The Kriging class will now use the Variogram from above to estimate the Kriging weights for each grid cell. This is done by solving a linear equation system. For an unobserved location $s_0$, we can use the distances to 5 observation points and build the system like:\n",
    "\n",
    "\\begin{align}\\begin{pmatrix}\n",
    "  \\gamma(s_1, s_1) & \\gamma(s_1, s_2) & \\gamma(s_1, s_3) & \\gamma(s_1, s_4) & \\gamma(s_1, s_5) & 1\\\\\n",
    "  \\gamma(s_2, s_1) & \\gamma(s_2, s_2) & \\gamma(s_2, s_3) & \\gamma(s_2, s_4) & \\gamma(s_2, s_5) & 1\\\\\n",
    "  \\gamma(s_3, s_1) & \\gamma(s_3, s_2) & \\gamma(s_3, s_3) & \\gamma(s_3, s_4) & \\gamma(s_3, s_5) & 1\\\\\n",
    "  \\gamma(s_4, s_1) & \\gamma(s_4, s_2) & \\gamma(s_4, s_3) & \\gamma(s_4, s_4) & \\gamma(s_4, s_5) & 1\\\\\n",
    "  \\gamma(s_5, s_1) & \\gamma(s_5, s_2) & \\gamma(s_5, s_3) & \\gamma(s_5, s_4) & \\gamma(s_5, s_5) & 1\\\\\n",
    "  1 & 1 & 1 & 1 & 1 & 0 \\\\\n",
    "  \\end{pmatrix} *\n",
    "  \\begin{bmatrix}\n",
    "  \\lambda_1 \\\\\n",
    "  \\lambda_2 \\\\\n",
    "  \\lambda_3 \\\\\n",
    "  \\lambda_4 \\\\\n",
    "  \\lambda_5 \\\\\n",
    "  \\mu \\\\\n",
    "  \\end{bmatrix} =\n",
    "  \\begin{pmatrix}\n",
    "  \\gamma(s_0, s_1) \\\\\n",
    "  \\gamma(s_0, s_2) \\\\\n",
    "  \\gamma(s_0, s_3) \\\\\n",
    "  \\gamma(s_0, s_4) \\\\\n",
    "  \\gamma(s_0, s_5) \\\\\n",
    "  1 \\\\\n",
    "  \\end{pmatrix}\\end{align}\n",
    "\n",
    "For more information, please refer to the `User Guide <https://mmaelicke.github.io/scikit-gstat/userguide/kriging.html#kriging-equation-system>`_.\n",
    "\n",
    "Consequently, the :class:`OrdinaryKriging <skgstat.OrdinaryKriging>` class needs a :class:`Variogram <skgstat.Variogram>` \n",
    "object as a mandatory attribute. Two very important optional attributes are ``min_points`` and ``max_points```.\n",
    "They will limit the size of the Kriging equation system. As we have 200 observations,\n",
    "we can require at least 5 neighbors within the range. More than 15 will only unnecessarily slow down the computation.\n",
    "The ``mode='exact'`` attribute will advise the class to build and solve the system above for each location.\n",
    "\n",
    "**Note:** The recommended way for kriging applications is to use the interface to :any:`gstools`.\n",
    "There is an easy-to-use interface via :func:`Variogram.to_gstools <skgstat.Variogram.to_gstools>` \n",
    "and :func:`Variogram.to_gs_krige <skgstat.Variogram.to_gs_krige>`.\n",
    "The getting started tutorial will use the builtin kriging class, anyway.\n",
    "\n"
   ]
  },
  {
   "cell_type": "code",
   "execution_count": null,
   "metadata": {},
   "outputs": [],
   "source": [
    "ok = skg.OrdinaryKriging(V, min_points=5, max_points=15, mode='exact')"
   ]
  },
  {
   "cell_type": "markdown",
   "metadata": {},
   "source": [
    "The :func:`OrdinaryKriging.transform <skgstat.OrdianryKriging.transform>` method will apply the interpolation for passed arrays of coordinates.\n",
    "It requires each dimension as a single 1D array. We can easily build a meshgrid of 100x100 coordinates and pass them to the interpolator.\n",
    "To recieve a 2D result, we can simply reshape the result. The Kriging error will be available as the ``sigma`` attribute of the interpolator.\n",
    "\n"
   ]
  },
  {
   "cell_type": "code",
   "execution_count": null,
   "metadata": {},
   "outputs": [],
   "source": [
    "# build the target grid\n",
    "x = coords[:, 0]\n",
    "y = coords[:, 1]\n",
    "xx, yy = np.mgrid[x.min():x.max():100j, y.min():y.max():100j]\n",
    "field = ok.transform(xx.flatten(), yy.flatten()).reshape(xx.shape)\n",
    "s2 = ok.sigma.reshape(xx.shape)"
   ]
  },
  {
   "cell_type": "markdown",
   "metadata": {},
   "source": [
    "And finally, we can plot the result.\n",
    "\n"
   ]
  },
  {
   "cell_type": "code",
   "execution_count": null,
   "metadata": {},
   "outputs": [],
   "source": [
    "fig, axes = plt.subplots(1, 2, figsize=(16, 8))\n",
    "\n",
    "# rescale the coordinates to fit the interpolation raster\n",
    "x_ = (x - x.min()) / (x.max() - x.min()) * 100\n",
    "y_ = (y - y.min()) / (y.max() - y.min()) * 100\n",
    "\n",
    "art = axes[0].matshow(field.T, origin='lower', cmap='plasma', vmin=vals.min(), vmax=vals.max())\n",
    "axes[0].set_title('Interpolation')\n",
    "axes[0].plot(x_, y_, '+w')\n",
    "axes[0].set_xlim((0, 100))\n",
    "axes[0].set_ylim((0, 100))\n",
    "plt.colorbar(art, ax=axes[0])\n",
    "art = axes[1].matshow(s2.T, origin='lower', cmap='YlGn_r')\n",
    "axes[1].set_title('Kriging Error')\n",
    "plt.colorbar(art, ax=axes[1])\n",
    "axes[1].plot(x_, y_, '+w')\n",
    "axes[1].set_xlim((0, 100))\n",
    "axes[1].set_ylim((0, 100))"
   ]
  },
  {
   "cell_type": "markdown",
   "metadata": {},
   "source": [
    "From the Kriging error map, you can see how the interpolation is very certain close to the observation points,\n",
    "but rather high in areas with only little coverage. You could now define a threshold of maximum accepted Kriging error\n",
    "variance to mask the interpolation result.\n",
    "\n"
   ]
  }
 ],
 "metadata": {
  "kernelspec": {
   "display_name": "Python 3 (ipykernel)",
   "language": "python",
   "name": "python3"
  },
  "language_info": {
   "codemirror_mode": {
    "name": "ipython",
    "version": 3
   },
   "file_extension": ".py",
   "mimetype": "text/x-python",
   "name": "python",
   "nbconvert_exporter": "python",
   "pygments_lexer": "ipython3",
   "version": "3.10.9"
  }
 },
 "nbformat": 4,
 "nbformat_minor": 1
}
